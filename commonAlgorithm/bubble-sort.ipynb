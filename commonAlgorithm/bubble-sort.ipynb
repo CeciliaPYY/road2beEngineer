{
 "cells": [
  {
   "cell_type": "markdown",
   "metadata": {},
   "source": [
    "## 冒泡排序\n",
    "\n",
    "冒泡排序是一种简单的排序。它重复地遍历要排序的序列，一次比较两个元素，如果他们的顺序错误就把他们交换过来。遍历数列的工作是重复地进行知道没有再需要交换，也就是说该数列已经排序完成。这个算法的名字由来是因为越小的元素会经由交换慢慢“浮”到数列的顶端。\n",
    "\n",
    "冒泡排序的算法运作如下：\n",
    "\n",
    "1.比较相邻的元素。如果第一个比第二个大（升序），就交换他们两个。\n",
    "\n",
    "2.对每一对相邻元素做同样的工作，从开始第一对到结尾最后一对。这步做完后，最后的元素会是最大的数。\n",
    "\n",
    "3.针对所有的元素重复以上步骤，除了最后一个。\n",
    "\n",
    "4.持续每次对越来越少的元素重复上面的步骤，直到没有任何一对数字需要比较。"
   ]
  },
  {
   "cell_type": "code",
   "execution_count": 7,
   "metadata": {},
   "outputs": [],
   "source": [
    "class Solution(object):\n",
    "    def bubble_sort(self, ls):\n",
    "        for i in range(len(ls)-1):\n",
    "            count = 0\n",
    "            for j in range(len(ls)-i-1):\n",
    "                if ls[j] > ls[j+1]:\n",
    "                    t = ls[j+1]\n",
    "                    ls[j+1] = ls[j]\n",
    "                    ls[j] = t\n",
    "\n",
    "                    count += 1\n",
    "            if 0==count:\n",
    "                    break\n",
    "        return ls"
   ]
  },
  {
   "cell_type": "code",
   "execution_count": 9,
   "metadata": {},
   "outputs": [
    {
     "name": "stdout",
     "output_type": "stream",
     "text": [
      "[0, 1, 2, 3, 4, 9]\n"
     ]
    }
   ],
   "source": [
    "print(Solution().bubble_sort([1,3,4,2,0,9]))"
   ]
  },
  {
   "cell_type": "code",
   "execution_count": null,
   "metadata": {},
   "outputs": [],
   "source": []
  }
 ],
 "metadata": {
  "kernelspec": {
   "display_name": "Python 3",
   "language": "python",
   "name": "python3"
  },
  "language_info": {
   "codemirror_mode": {
    "name": "ipython",
    "version": 3
   },
   "file_extension": ".py",
   "mimetype": "text/x-python",
   "name": "python",
   "nbconvert_exporter": "python",
   "pygments_lexer": "ipython3",
   "version": "3.6.5"
  }
 },
 "nbformat": 4,
 "nbformat_minor": 2
}
