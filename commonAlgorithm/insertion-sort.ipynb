{
 "cells": [
  {
   "cell_type": "markdown",
   "metadata": {},
   "source": [
    "## 插入排序\n",
    "\n",
    "插入排序是一种简单直观的排序算法。它的工作原理是通过构建有序序列，对于未排序数据，在已排序序列中从后向前扫描，找到相应位置并插入。插入排序在实现上，在从后向前扫描过程中，需要反复把已排序元素逐步向后挪位，为新元素提供插入空间。"
   ]
  },
  {
   "cell_type": "markdown",
   "metadata": {},
   "source": [
    "## 插入排序的具体算法描述如下：\n",
    "\n",
    "1. 从第一个元素开始，该元素可以认为已经被排序\n",
    "\n",
    "2. 取出下一个元素，在已经排序的元素序列中从后向前扫描\n",
    "\n",
    "3. 如果该元素（已排序）大于新元素，将该元素移动到下一位置\n",
    "\n",
    "4. 重复步骤三，直到找到已排序的元素小于或者等于新元素的位置\n",
    "\n",
    "5. 将新元素插入到下一位置中\n",
    "\n",
    "6. 重复步骤2~5"
   ]
  },
  {
   "cell_type": "code",
   "execution_count": 1,
   "metadata": {},
   "outputs": [],
   "source": [
    "class Solution(object):\n",
    "    def insertionSort(self, ls):\n",
    "        for j in range(1, len(ls)):\n",
    "            key = ls[j]\n",
    "\n",
    "            i = j - 1\n",
    "            while i>=0 and ls[i]>key:\n",
    "                ls[i+1] = ls[i]\n",
    "                i -= 1\n",
    "            ls[i+1] = key\n",
    "        return ls"
   ]
  },
  {
   "cell_type": "code",
   "execution_count": 2,
   "metadata": {},
   "outputs": [
    {
     "name": "stdout",
     "output_type": "stream",
     "text": [
      "[0, 1, 2, 3, 4]\n"
     ]
    }
   ],
   "source": [
    "print(Solution().insertionSort([0,2,1,4,3]))"
   ]
  },
  {
   "cell_type": "code",
   "execution_count": null,
   "metadata": {},
   "outputs": [],
   "source": []
  }
 ],
 "metadata": {
  "kernelspec": {
   "display_name": "Python 3",
   "language": "python",
   "name": "python3"
  },
  "language_info": {
   "codemirror_mode": {
    "name": "ipython",
    "version": 3
   },
   "file_extension": ".py",
   "mimetype": "text/x-python",
   "name": "python",
   "nbconvert_exporter": "python",
   "pygments_lexer": "ipython3",
   "version": "3.6.5"
  }
 },
 "nbformat": 4,
 "nbformat_minor": 2
}
