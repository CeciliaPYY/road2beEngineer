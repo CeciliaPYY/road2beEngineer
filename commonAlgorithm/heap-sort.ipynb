{
 "cells": [
  {
   "cell_type": "markdown",
   "metadata": {},
   "source": [
    "## 二叉树\n",
    "\n",
    "二叉树是每个结点最多有两个子树的树结构。二叉树的每个结点至多只有两棵子树（不存在度大于2的结点）。二叉树的第 i 层至多有 2^i - 1 个结点；深度为 k 的二叉树至多有 2^k - 1 个结点；对任何一棵二叉树，如果其终端结点数为 n0，度为2的节点数为 n2，则n0 = n2 + 1\n",
    "\n",
    "二叉树分为完全二叉树和满二叉树\n",
    "\n",
    "满二叉树：一课深度为 k， 且有 2^k - 1 个节点称之为满二叉树\n",
    "\n",
    "完全二叉树：深度为 k，有 n 个结点的二叉树，当切仅当其每一个结点都与深度为 k 的满二叉树种序号为 1 至 n 的结点对应时，称之为完全二叉树"
   ]
  },
  {
   "cell_type": "markdown",
   "metadata": {},
   "source": [
    "## 堆\n",
    "\n",
    "堆（二叉堆）可以视为一课完全的二叉树，完全二叉树的一个“优秀”的性质是，除了最底层之外，每一层都是满的，这使得堆可以利用数组来表示（普通的一般的二叉树常用链表作为基本容器表示），每一个结点对应数组的一个元素。\n",
    "\n",
    "对于给定的某个结点的下标 i，可以很容易的计算出这个结点的父节点、孩子结点的下标：\n",
    "\n",
    "parent(i) = floor(i/2), i的父节点下标\n",
    "left(i) = 2i，i的左子节点的下标\n",
    "right(i) = 2i + 1，i的右子节点的下标\n",
    "\n",
    "## 二叉堆\n",
    "\n",
    "二叉堆一般分为两种：最大堆和最小堆。\n",
    "\n",
    "最大堆：\n",
    "\n",
    "1. 最大堆中的最大元素出现在根结点（堆顶）\n",
    "\n",
    "2. 堆中每个父节点的元素值都大于等于其孩子结点（如果存在）\n",
    "\n",
    "最小堆：\n",
    "\n",
    "1. 最小堆中的最小元素出现在根结点（堆顶）\n",
    "\n",
    "2. 堆中每个父节点的元素值都小于等于其孩子结点（如果存在）"
   ]
  },
  {
   "cell_type": "markdown",
   "metadata": {},
   "source": [
    "## 堆排序原理\n",
    "\n",
    "堆排序就是把最大堆堆顶的最大数取出，将剩余的堆继续调整为最大堆，再次将堆顶的最大数取出，这个过程持续到剩余数只有一个时结束。"
   ]
  },
  {
   "cell_type": "code",
   "execution_count": null,
   "metadata": {},
   "outputs": [],
   "source": []
  }
 ],
 "metadata": {
  "kernelspec": {
   "display_name": "Python 3",
   "language": "python",
   "name": "python3"
  },
  "language_info": {
   "codemirror_mode": {
    "name": "ipython",
    "version": 3
   },
   "file_extension": ".py",
   "mimetype": "text/x-python",
   "name": "python",
   "nbconvert_exporter": "python",
   "pygments_lexer": "ipython3",
   "version": "3.6.5"
  }
 },
 "nbformat": 4,
 "nbformat_minor": 2
}
